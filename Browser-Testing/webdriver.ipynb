{
 "cells": [
  {
   "cell_type": "markdown",
   "metadata": {},
   "source": [
    "This code contains testing code to trigger Safe Browsing alerts on 3 browsers: Chrome, AVG Secure Browser, and Firefox."
   ]
  },
  {
   "cell_type": "code",
   "execution_count": null,
   "metadata": {},
   "outputs": [],
   "source": [
    "from selenium import webdriver\n",
    "from selenium.webdriver.common.keys import Keys\n",
    "\n",
    "# used to display site screenshots\n",
    "from IPython.display import Image"
   ]
  },
  {
   "cell_type": "markdown",
   "metadata": {},
   "source": [
    "Run one (and only one) of the below blocks to start a browser instance on an available node, or to queue one if no slots are available."
   ]
  },
  {
   "cell_type": "code",
   "execution_count": null,
   "metadata": {},
   "outputs": [],
   "source": [
    "# create a new Chrome configuration\n",
    "chrome_options = webdriver.ChromeOptions()\n",
    "chrome_options.add_argument(\"--user-data-dir=C:\\\\Users\\\\champuser\\\\AppData\\\\Local\\\\Google\\\\Chrome\\\\User Data\\\\\")\n",
    "\n",
    "# register the Chrome config with any Chrome instance available on the Grid\n",
    "driver = webdriver.Remote(\n",
    "    command_executor=\"http://localhost:4444/wd/hub\",\n",
    "    options=chrome_options)"
   ]
  },
  {
   "cell_type": "code",
   "execution_count": null,
   "metadata": {},
   "outputs": [],
   "source": [
    "# create a new AVG configuration\n",
    "avg_options = webdriver.ChromeOptions()\n",
    "avg_options.binary_location = \"C:\\Program Files (x86)\\AVG\\Browser\\Application\\AVGBrowser.exe\" # use the AVG browser instead\n",
    "avg_options.add_argument(\"--user-data-dir=C:\\\\Users\\\\champuser\\\\AppData\\\\Local\\\\AVG\\\\Browser\\\\User Data\\\\\")\n",
    "\n",
    "# register the AVG config with any AVG Secure Browser instance available on the Grid\n",
    "driver = webdriver.Remote(\n",
    "    command_executor=\"http://localhost:4444/wd/hub\",\n",
    "    options=avg_options)"
   ]
  },
  {
   "cell_type": "code",
   "execution_count": null,
   "metadata": {},
   "outputs": [],
   "source": [
    "# create a new Chromium Edge configuration\n",
    "edge_options = webdriver.EdgeOptions()\n",
    "edge_options.add_argument(\"--user-data-dir=C:\\\\Users\\\\champuser\\\\AppData\\\\Local\\\\Microsoft\\\\Edge\\\\User Data\\\\\")\n",
    "\n",
    "# register the Chromium Edge config with any Chromium Edge instance available on the Grid\n",
    "driver = webdriver.Remote(\n",
    "    command_executor=\"http://localhost:4444/wd/hub\",\n",
    "    options=edge_options)"
   ]
  },
  {
   "cell_type": "code",
   "execution_count": null,
   "metadata": {},
   "outputs": [],
   "source": [
    "# create a new Firefox configuration\n",
    "firefox_options = webdriver.FirefoxOptions()\n",
    "firefox_options.add_argument(\"--profile\")\n",
    "firefox_options.add_argument(\"C:\\\\Users\\\\champuser\\\\AppData\\\\Local\\\\Mozilla\\\\Firefox\\\\Profiles\\\\bi197zbz.default\\\\\")\n",
    "firefox_options.set_preference(\"browser.safebrowsing.enabled\", True)\n",
    "firefox_options.set_preference(\"browser.safebrowsing.malware.enabled\", True)\n",
    "firefox_options.set_preference(\"browser.safebrowsing.phishing.enabled\", True)\n",
    "\n",
    "# register the Firefox config with any Firefox instances available on the Grid\n",
    "driver = webdriver.Remote(\n",
    "    command_executor=\"http://localhost:4444/wd/hub\",\n",
    "    options=firefox_options)"
   ]
  },
  {
   "cell_type": "markdown",
   "metadata": {},
   "source": [
    "The below section checks against the Google Safe Browsing phishing test page to see if a warning is triggered."
   ]
  },
  {
   "cell_type": "code",
   "execution_count": null,
   "metadata": {},
   "outputs": [],
   "source": [
    "# navigate to a test page\n",
    "driver.get(\"https://testsafebrowsing.appspot.com/s/phishing.html\")\n",
    "\n",
    "# get information about the visited page\n",
    "print(driver.title)\n",
    "Image(driver.get_screenshot_as_png())"
   ]
  },
  {
   "cell_type": "markdown",
   "metadata": {},
   "source": [
    "The below must be run manually after completing a session, before creating another browser session. If this is not done, Selenium Grid will keep the session open until it times out, which could result in future jobs being queued."
   ]
  },
  {
   "cell_type": "code",
   "execution_count": null,
   "metadata": {},
   "outputs": [],
   "source": [
    "# exit the browser process\n",
    "# required to be in a separate block since screenshots fail if you run quit immediately\n",
    "driver.quit()"
   ]
  },
  {
   "cell_type": "markdown",
   "metadata": {},
   "source": [
    "NOTE: It's recommended to use the tool [`nbstripout`](https://pypi.org/project/nbstripout/) with the optional Git filter to strip the outputs before committing to the git repository."
   ]
  }
 ],
 "metadata": {
  "interpreter": {
   "hash": "a601f3929fe5a3e0617d021f3cef7a715c0b0dab8d6a1f15bd482c7c8a6f5b29"
  },
  "kernelspec": {
   "display_name": "Python 3.9.7 ('env': venv)",
   "language": "python",
   "name": "python3"
  },
  "language_info": {
   "codemirror_mode": {
    "name": "ipython",
    "version": 3
   },
   "file_extension": ".py",
   "mimetype": "text/x-python",
   "name": "python",
   "nbconvert_exporter": "python",
   "pygments_lexer": "ipython3",
   "version": "3.9.7"
  }
 },
 "nbformat": 4,
 "nbformat_minor": 2
}
